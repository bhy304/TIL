{
  "nbformat": 4,
  "nbformat_minor": 0,
  "metadata": {
    "colab": {
      "name": "자료구조.ipynb",
      "provenance": [],
      "collapsed_sections": [],
      "include_colab_link": true
    },
    "kernelspec": {
      "name": "python3",
      "display_name": "Python 3"
    }
  },
  "cells": [
    {
      "cell_type": "markdown",
      "metadata": {
        "id": "view-in-github",
        "colab_type": "text"
      },
      "source": [
        "<a href=\"https://colab.research.google.com/github/bhy304/TIL/blob/master/Array.ipynb\" target=\"_parent\"><img src=\"https://colab.research.google.com/assets/colab-badge.svg\" alt=\"Open In Colab\"/></a>"
      ]
    },
    {
      "cell_type": "markdown",
      "metadata": {
        "id": "7Dd_1k_VN4oV",
        "colab_type": "text"
      },
      "source": [
        "# **자료구조**\n",
        "\n"
      ]
    },
    {
      "cell_type": "markdown",
      "metadata": {
        "id": "WD9rO4QzQcJK",
        "colab_type": "text"
      },
      "source": [
        "자료구조는 흔히 자료구조, 데이터구조, Data Structure라고 한다. \n",
        "\n",
        "자료구조란 **대량의 데이터를 효율적으로 관리할 수 있는 데이터의 구조** 를 의미한다.\n",
        "\n",
        "코드상에서 효율적으로 데이터를 처리하기 위해, 데이터의 특성에 따라 체계적으로 데이터를 구조화해야한다. \n",
        "어떤 데이터 구조를 사용하느냐에 따라 코드 효율이 달라진다. \n",
        "\n",
        "대표적인 자료구조에는 **배열, 스택, 큐, 링크드 리스트, 해쉬 테이블, 힙** 등이 있다. "
      ]
    },
    {
      "cell_type": "markdown",
      "metadata": {
        "id": "XQ3_5xspQ1iw",
        "colab_type": "text"
      },
      "source": [
        "# 1. 배열(Array)"
      ]
    },
    {
      "cell_type": "markdown",
      "metadata": {
        "id": "couD-t9NRJTE",
        "colab_type": "text"
      },
      "source": [
        "- 데이터를 나열하고, 각 데이터를 인덱스에 대응하도록 구성한 데이터 구조\n",
        "- 파이썬에서는 리스트 타입이 배열 기능을 제공하고 있음.\n"
      ]
    },
    {
      "cell_type": "markdown",
      "metadata": {
        "id": "u1WvZKb_RWwm",
        "colab_type": "text"
      },
      "source": [
        "## 배열이 왜 필요할까?\n",
        "- 같은 종류의 데이터를 효율적으로 관리하기 위해 사용\n",
        "- 같은 종류의 데이터를 순차적으로 저장"
      ]
    },
    {
      "cell_type": "markdown",
      "metadata": {
        "id": "6I6Q44gVSu4m",
        "colab_type": "text"
      },
      "source": [
        "## 배열의 장점\n",
        "- (메모리주소만 알면) 인덱스를 통한 빠른 접근 가능\n",
        "\n",
        "## 배열의 단점\n",
        "- 추가, 삭제가 쉽지 않음\n",
        "- 미리 최대 길이를 지정해야함"
      ]
    },
    {
      "cell_type": "markdown",
      "metadata": {
        "id": "w-L_OsZZV0aJ",
        "colab_type": "text"
      },
      "source": [
        "## 파이썬과 C 언어의 배열 예제\n"
      ]
    },
    {
      "cell_type": "code",
      "metadata": {
        "id": "hCFeP3DAYkew",
        "colab_type": "code",
        "colab": {}
      },
      "source": [
        "#include <stdio.h>\n",
        "\n",
        "int main(int argc, char * argv[])\n",
        "{\n",
        "    char country[3] = \"US\"; // c언어에서는 배열을 사용할 때 미리 길이를 정함.\n",
        "    printf(\"%c%c\\n\", country[0], country[1]);\n",
        "    printf(\"%s\\n\", country);\n",
        "    return 0;\n",
        "}"
      ],
      "execution_count": 0,
      "outputs": []
    },
    {
      "cell_type": "code",
      "metadata": {
        "id": "MQ16RbK4P4tT",
        "colab_type": "code",
        "outputId": "5768628e-74cc-4a56-db9d-40665bb2c0e6",
        "colab": {
          "base_uri": "https://localhost:8080/",
          "height": 52
        }
      },
      "source": [
        "country = 'US'\n",
        "print(country)\n",
        "\n",
        "country = country + 'A'\n",
        "print(country)"
      ],
      "execution_count": 0,
      "outputs": [
        {
          "output_type": "stream",
          "text": [
            "US\n",
            "USA\n"
          ],
          "name": "stdout"
        }
      ]
    },
    {
      "cell_type": "code",
      "metadata": {
        "id": "c4bYDBTFV7PC",
        "colab_type": "code",
        "colab": {}
      },
      "source": [
        ""
      ],
      "execution_count": 0,
      "outputs": []
    }
  ]
}
