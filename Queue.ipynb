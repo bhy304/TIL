{
  "nbformat": 4,
  "nbformat_minor": 0,
  "metadata": {
    "colab": {
      "name": "Queue.ipynb",
      "provenance": [],
      "include_colab_link": true
    },
    "kernelspec": {
      "name": "python3",
      "display_name": "Python 3"
    }
  },
  "cells": [
    {
      "cell_type": "markdown",
      "metadata": {
        "id": "view-in-github",
        "colab_type": "text"
      },
      "source": [
        "<a href=\"https://colab.research.google.com/github/bhy304/TIL/blob/master/Queue.ipynb\" target=\"_parent\"><img src=\"https://colab.research.google.com/assets/colab-badge.svg\" alt=\"Open In Colab\"/></a>"
      ]
    },
    {
      "cell_type": "markdown",
      "metadata": {
        "id": "RVegdPrRNYUU",
        "colab_type": "text"
      },
      "source": [
        "# 큐(Queue)\n",
        "대표적인 데이터 구조\n",
        "\n",
        "큐는 배열과 함께 가장 쉬운 자료 구조 중 하나"
      ]
    },
    {
      "cell_type": "markdown",
      "metadata": {
        "id": "OF6blOj8OTnI",
        "colab_type": "text"
      },
      "source": [
        "## 큐 구조\n",
        "* 가장 먼저 넣은 데이터를 가장 먼저 꺼낼 수 있는 구조\n",
        "  * 음식점에서 가장 먼저 줄을 선 사람이 제일 먼저 음식점에 입장하는 것과 동일하다. \n",
        "  * 줄을 서는 행위와 유사\n",
        "  * **FIFO(First-In, First-Out)** 또는 LILO(Last-In, Last-Out) 방식으로 **스택과 꺼내는 순서가 반대**"
      ]
    },
    {
      "cell_type": "markdown",
      "metadata": {
        "id": "zBEcQJOEPRUt",
        "colab_type": "text"
      },
      "source": [
        "* 데이터는 **큐의 끝에만 삽입**할 수 있다.(스택과 동일한 동작이다.)\n",
        "* 데이터는 **큐의 앞에서만 읽을 수 있다**. (스택과 정반대 동작이다.)\n",
        "* 데이터는 **큐의 앞에서만 삭제**할 수 있다. (스택과 정반대 동작이다.)"
      ]
    },
    {
      "cell_type": "markdown",
      "metadata": {
        "id": "uKcNIMC4OwrC",
        "colab_type": "text"
      },
      "source": [
        "## 알아둘 용어\n",
        "* **Enqueue** : 큐에 데이터를 넣는 기능\n",
        "* **Dequeue** : 큐에서 데이터를 꺼내는 기능\n",
        "* [Visualgo 사이트에서 시연해보며 이해하기](https://visualgo.net/en/list)"
      ]
    },
    {
      "cell_type": "markdown",
      "metadata": {
        "id": "9g2-EzzKPAyH",
        "colab_type": "text"
      },
      "source": [
        "## 파이썬 queue 라이브러리를 활용해서 큐 자료 구조 사용하기\n",
        "* queue 라이브러리에는 다양한 큐 구조로 Queue(), LifoQueue(), PriorityQueue() 제공\n",
        "* 프로그램을 작성할 때 프로그램에 따라 적합한 자료 구조를 사용\n",
        "  * Queue() : 가장 일반적인 큐 자료 구조, FIFO(First-In, First-Out)\n",
        "  * LifoQueue() : 나중에 입력된 데이터가 먼저 출력되는 구조(스택 구조라고 보면 된다.)\n",
        "  * PriorityQueue() : 데이터마다 우선순위를 넣어서, 우선순위가 높은 순으로 데이터 출력"
      ]
    },
    {
      "cell_type": "markdown",
      "metadata": {
        "id": "FI1qAprEQTfH",
        "colab_type": "text"
      },
      "source": [
        "##### 1. Queue()로 큐 만들기(가장 일반적인 큐, FIFO(First-In, First-Out)"
      ]
    },
    {
      "cell_type": "code",
      "metadata": {
        "id": "2_noGc2-Hvsq",
        "colab_type": "code",
        "colab": {}
      },
      "source": [
        "import queue\n",
        "\n",
        "data_queue = queue.Queue()"
      ],
      "execution_count": 0,
      "outputs": []
    },
    {
      "cell_type": "code",
      "metadata": {
        "id": "wGLJG6msQuCV",
        "colab_type": "code",
        "colab": {}
      },
      "source": [
        "data_queue.put('funcoding') # Enqueue\n",
        "data_queue.put(1)"
      ],
      "execution_count": 0,
      "outputs": []
    },
    {
      "cell_type": "code",
      "metadata": {
        "id": "nr1NLjH2Q7i2",
        "colab_type": "code",
        "outputId": "250aabe4-3260-439f-e4af-7b697549557f",
        "colab": {
          "base_uri": "https://localhost:8080/",
          "height": 34
        }
      },
      "source": [
        "data_queue.qsize() # 데이터 큐의 사이즈 확인"
      ],
      "execution_count": 4,
      "outputs": [
        {
          "output_type": "execute_result",
          "data": {
            "text/plain": [
              "2"
            ]
          },
          "metadata": {
            "tags": []
          },
          "execution_count": 4
        }
      ]
    },
    {
      "cell_type": "code",
      "metadata": {
        "id": "iX-3kfMARA16",
        "colab_type": "code",
        "outputId": "7afcb700-df08-4d79-e989-c2bcbb4dbca0",
        "colab": {
          "base_uri": "https://localhost:8080/",
          "height": 34
        }
      },
      "source": [
        "data_queue.get() # Dequeue"
      ],
      "execution_count": 5,
      "outputs": [
        {
          "output_type": "execute_result",
          "data": {
            "text/plain": [
              "'funcoding'"
            ]
          },
          "metadata": {
            "tags": []
          },
          "execution_count": 5
        }
      ]
    },
    {
      "cell_type": "code",
      "metadata": {
        "id": "04-4xu_XRHBG",
        "colab_type": "code",
        "outputId": "d84ba32d-27dc-484f-8271-f08746e57fb2",
        "colab": {
          "base_uri": "https://localhost:8080/",
          "height": 34
        }
      },
      "source": [
        "data_queue.qsize()"
      ],
      "execution_count": 6,
      "outputs": [
        {
          "output_type": "execute_result",
          "data": {
            "text/plain": [
              "1"
            ]
          },
          "metadata": {
            "tags": []
          },
          "execution_count": 6
        }
      ]
    },
    {
      "cell_type": "code",
      "metadata": {
        "id": "sKeszPUrRNXJ",
        "colab_type": "code",
        "outputId": "b67c4c6d-003c-4bce-e2f5-d4a3124acd48",
        "colab": {
          "base_uri": "https://localhost:8080/",
          "height": 34
        }
      },
      "source": [
        "data_queue.get()"
      ],
      "execution_count": 7,
      "outputs": [
        {
          "output_type": "execute_result",
          "data": {
            "text/plain": [
              "1"
            ]
          },
          "metadata": {
            "tags": []
          },
          "execution_count": 7
        }
      ]
    },
    {
      "cell_type": "code",
      "metadata": {
        "id": "V7ez_ItxRRuZ",
        "colab_type": "code",
        "outputId": "cc1fd97e-5fd6-4b0e-edd0-52972e1e7378",
        "colab": {
          "base_uri": "https://localhost:8080/",
          "height": 34
        }
      },
      "source": [
        "data_queue.qsize()"
      ],
      "execution_count": 8,
      "outputs": [
        {
          "output_type": "execute_result",
          "data": {
            "text/plain": [
              "0"
            ]
          },
          "metadata": {
            "tags": []
          },
          "execution_count": 8
        }
      ]
    },
    {
      "cell_type": "markdown",
      "metadata": {
        "id": "EMuUFSl1Rjep",
        "colab_type": "text"
      },
      "source": [
        "##### 2. LifoQueue()로 큐 만들기(LIFO(Last-In, First-Out))"
      ]
    },
    {
      "cell_type": "code",
      "metadata": {
        "id": "pD9Oc7HARUin",
        "colab_type": "code",
        "colab": {}
      },
      "source": [
        "import queue\n",
        "data_queue = queue.LifoQueue()"
      ],
      "execution_count": 0,
      "outputs": []
    },
    {
      "cell_type": "code",
      "metadata": {
        "id": "9NSukWLZSHs_",
        "colab_type": "code",
        "colab": {}
      },
      "source": [
        "data_queue.put('funcoding')\n",
        "data_queue.put(1)"
      ],
      "execution_count": 0,
      "outputs": []
    },
    {
      "cell_type": "code",
      "metadata": {
        "id": "ZCbLoju3SM1_",
        "colab_type": "code",
        "outputId": "1c8e0402-9a11-4a7f-9401-2d6ee6f5f2dc",
        "colab": {
          "base_uri": "https://localhost:8080/",
          "height": 34
        }
      },
      "source": [
        "data_queue.qsize()"
      ],
      "execution_count": 11,
      "outputs": [
        {
          "output_type": "execute_result",
          "data": {
            "text/plain": [
              "2"
            ]
          },
          "metadata": {
            "tags": []
          },
          "execution_count": 11
        }
      ]
    },
    {
      "cell_type": "code",
      "metadata": {
        "id": "8NFDziGeSSZu",
        "colab_type": "code",
        "outputId": "f91fa48c-09cc-4c19-b835-1eeddb1f6c49",
        "colab": {
          "base_uri": "https://localhost:8080/",
          "height": 34
        }
      },
      "source": [
        "data_queue.get()"
      ],
      "execution_count": 12,
      "outputs": [
        {
          "output_type": "execute_result",
          "data": {
            "text/plain": [
              "1"
            ]
          },
          "metadata": {
            "tags": []
          },
          "execution_count": 12
        }
      ]
    },
    {
      "cell_type": "markdown",
      "metadata": {
        "id": "m-HFyGSSSnAv",
        "colab_type": "text"
      },
      "source": [
        "##### 3. PriorityQueue()로 큐 만들기\n",
        "1 - 우선순위가 높음, 10 - 우선순위가 낮음"
      ]
    },
    {
      "cell_type": "code",
      "metadata": {
        "id": "0nTfzPh3SrHD",
        "colab_type": "code",
        "colab": {}
      },
      "source": [
        "import queue\n",
        "data_queue = queue.PriorityQueue()"
      ],
      "execution_count": 0,
      "outputs": []
    },
    {
      "cell_type": "code",
      "metadata": {
        "id": "dCVBX9CmS48t",
        "colab_type": "code",
        "colab": {}
      },
      "source": [
        "data_queue.put((10, 'korea')) # (우선순위, 데이터)\n",
        "data_queue.put((5, 1))\n",
        "data_queue.put((15, 'china'))"
      ],
      "execution_count": 0,
      "outputs": []
    },
    {
      "cell_type": "code",
      "metadata": {
        "id": "HqvZzgStTVTt",
        "colab_type": "code",
        "outputId": "4788e4e2-7f20-47d3-9eeb-937aa47871e3",
        "colab": {
          "base_uri": "https://localhost:8080/",
          "height": 34
        }
      },
      "source": [
        "data_queue.qsize()"
      ],
      "execution_count": 15,
      "outputs": [
        {
          "output_type": "execute_result",
          "data": {
            "text/plain": [
              "3"
            ]
          },
          "metadata": {
            "tags": []
          },
          "execution_count": 15
        }
      ]
    },
    {
      "cell_type": "code",
      "metadata": {
        "id": "UZfnB80mTXk2",
        "colab_type": "code",
        "outputId": "8c235f8b-2b0e-4d0e-9024-4f9fc26b4cc3",
        "colab": {
          "base_uri": "https://localhost:8080/",
          "height": 34
        }
      },
      "source": [
        "data_queue.get() # 우선순위가 높은 것부터 출력"
      ],
      "execution_count": 16,
      "outputs": [
        {
          "output_type": "execute_result",
          "data": {
            "text/plain": [
              "(5, 1)"
            ]
          },
          "metadata": {
            "tags": []
          },
          "execution_count": 16
        }
      ]
    },
    {
      "cell_type": "code",
      "metadata": {
        "id": "785rCXOgTaLT",
        "colab_type": "code",
        "outputId": "a5cba624-13c4-4cdb-d7e6-e4a1550f2f5b",
        "colab": {
          "base_uri": "https://localhost:8080/",
          "height": 34
        }
      },
      "source": [
        "data_queue.get()"
      ],
      "execution_count": 17,
      "outputs": [
        {
          "output_type": "execute_result",
          "data": {
            "text/plain": [
              "(10, 'korea')"
            ]
          },
          "metadata": {
            "tags": []
          },
          "execution_count": 17
        }
      ]
    },
    {
      "cell_type": "code",
      "metadata": {
        "id": "UvEVLQskrmsj",
        "colab_type": "code",
        "colab": {
          "base_uri": "https://localhost:8080/",
          "height": 34
        },
        "outputId": "4ba107fa-5737-4ed6-85be-aebf995750ec"
      },
      "source": [
        "data_queue.get()"
      ],
      "execution_count": 18,
      "outputs": [
        {
          "output_type": "execute_result",
          "data": {
            "text/plain": [
              "(15, 'china')"
            ]
          },
          "metadata": {
            "tags": []
          },
          "execution_count": 18
        }
      ]
    },
    {
      "cell_type": "markdown",
      "metadata": {
        "id": "jCZlj1oZr01v",
        "colab_type": "text"
      },
      "source": [
        "## 참고: 어디에 큐가 많이 쓰일까?\n",
        "* **멀티 태스킹을 위한 프로세스 스케쥴링 방식을 구현하기 위해 많이 사용됨**(운영체제 참조)\n",
        "\n",
        "> 큐의 경우에는 장단점 보다는 (특별히 언급되는 장단점이 없음) 큐의 활용 예로 프로세스 스케쥴링 방식을 함께 이해해두는 것이 좋다."
      ]
    },
    {
      "cell_type": "markdown",
      "metadata": {
        "id": "232yG3ltTzJP",
        "colab_type": "text"
      },
      "source": [
        "##### 연습1: 리스트 변수로 큐를 다루는 enqueue, dequeue 기능 구현해보기\n"
      ]
    },
    {
      "cell_type": "code",
      "metadata": {
        "id": "vo4FBpCzTt4z",
        "colab_type": "code",
        "colab": {}
      },
      "source": [
        "queue_list = list()\n",
        "\n",
        "def enqueue(data):\n",
        "  queue_list.append(data)\n",
        "\n",
        "def dequeue():\n",
        "  data = queue_list[0]\n",
        "  del queue_list[0]\n",
        "  return data"
      ],
      "execution_count": 0,
      "outputs": []
    },
    {
      "cell_type": "code",
      "metadata": {
        "id": "cMiKV0KoirN0",
        "colab_type": "code",
        "colab": {}
      },
      "source": [
        "for index in range(10):\n",
        "  enqueue(index)"
      ],
      "execution_count": 0,
      "outputs": []
    },
    {
      "cell_type": "code",
      "metadata": {
        "id": "tTnL0RCkiv3C",
        "colab_type": "code",
        "outputId": "e5d1e75d-bc9c-49b3-e010-d09366575d3d",
        "colab": {
          "base_uri": "https://localhost:8080/",
          "height": 34
        }
      },
      "source": [
        "len(queue_list)"
      ],
      "execution_count": 21,
      "outputs": [
        {
          "output_type": "execute_result",
          "data": {
            "text/plain": [
              "10"
            ]
          },
          "metadata": {
            "tags": []
          },
          "execution_count": 21
        }
      ]
    },
    {
      "cell_type": "code",
      "metadata": {
        "id": "WSkXNvSIizCY",
        "colab_type": "code",
        "outputId": "5be6041f-7ff9-4422-9e94-504c32058664",
        "colab": {
          "base_uri": "https://localhost:8080/",
          "height": 34
        }
      },
      "source": [
        "dequeue() # 0부터 하나씩 순차적으로 dequeue!"
      ],
      "execution_count": 26,
      "outputs": [
        {
          "output_type": "execute_result",
          "data": {
            "text/plain": [
              "4"
            ]
          },
          "metadata": {
            "tags": []
          },
          "execution_count": 26
        }
      ]
    }
  ]
}