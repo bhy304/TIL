{
  "nbformat": 4,
  "nbformat_minor": 0,
  "metadata": {
    "colab": {
      "name": "Stack.ipynb",
      "provenance": [],
      "collapsed_sections": [],
      "include_colab_link": true
    },
    "kernelspec": {
      "name": "python3",
      "display_name": "Python 3"
    }
  },
  "cells": [
    {
      "cell_type": "markdown",
      "metadata": {
        "id": "view-in-github",
        "colab_type": "text"
      },
      "source": [
        "<a href=\"https://colab.research.google.com/github/bhy304/TIL/blob/master/Stack.ipynb\" target=\"_parent\"><img src=\"https://colab.research.google.com/assets/colab-badge.svg\" alt=\"Open In Colab\"/></a>"
      ]
    },
    {
      "cell_type": "markdown",
      "metadata": {
        "id": "czcIrdq4tzdY",
        "colab_type": "text"
      },
      "source": [
        "# 스택(Stack)\n",
        "꼭 알아둬야 할 자료 구조\n",
        "\n"
      ]
    },
    {
      "cell_type": "markdown",
      "metadata": {
        "id": "Id2z4vb6t6gI",
        "colab_type": "text"
      },
      "source": [
        "* 데이터를 제한적으로 접근할 수 있는 구조\n",
        "  * 한쪽 끝에서만 자료를 넣거나 뺄 수 있는 구조\n",
        "* **가장 나중에 쌓은 데이터를 가장 먼저 빼낼 수 있는 데이터 구조**\n"
      ]
    },
    {
      "cell_type": "markdown",
      "metadata": {
        "id": "E0j3c2Pmuh6s",
        "colab_type": "text"
      },
      "source": [
        "\n",
        "\n",
        "* 큐 : FIFO 정책, ex)줄 서기 <br>\n",
        "* 스택 : LIFO 정책, ex)책 쌓기\n",
        "\n"
      ]
    },
    {
      "cell_type": "markdown",
      "metadata": {
        "id": "9_MUhK9s1gk-",
        "colab_type": "text"
      },
      "source": [
        "## 스택 구조\n"
      ]
    },
    {
      "cell_type": "markdown",
      "metadata": {
        "id": "edgtfw5d1keV",
        "colab_type": "text"
      },
      "source": [
        "* 스택은 LIFO(Last In, First Out) 또는 FILO(First In, Last Out) 데이터 관리 방식을 따름.\n",
        "  * LIFO : 마지막에 넣은 데이터를 가장 먼저 추출하는 데이터 관리 정책\n",
        "  * FILO : 처음에 넣은 데이터를 가장 마지막에 추출하는 데이터 관리 정책\n",
        "\n",
        "* 대표적인 스택의 활용\n",
        "  * **컴퓨터 내부의 프로세스 구조의 함수 동작 방식**\n",
        "\n",
        "* 주요 기능\n",
        "  * **push()** : 데이터를 스택에 넣기\n",
        "  * **pop()** : 데이터를 스택에서 꺼내기\n",
        "* [Visualgo 사이트에서 시연해보며 이해하기](https://visualgo.net/en/list)"
      ]
    },
    {
      "cell_type": "markdown",
      "metadata": {
        "id": "lAigLwmh2IDs",
        "colab_type": "text"
      },
      "source": [
        "- 데이터는 **스택의 끝에만 삽입**할 수 있다. \n",
        "- 데이터는 **스택의 끝에서만 읽을 수 있다**. \n",
        "- 데이터는 **스택의 끝에서만 삭제**할 수 있다."
      ]
    },
    {
      "cell_type": "markdown",
      "metadata": {
        "id": "SMQDmzkowr8m",
        "colab_type": "text"
      },
      "source": [
        "![대체 텍스트](https://t1.daumcdn.net/cfile/tistory/9988ED385A755F2F0A)"
      ]
    },
    {
      "cell_type": "markdown",
      "metadata": {
        "id": "r45zQfwo3dyY",
        "colab_type": "text"
      },
      "source": [
        "## 스택 구조와 프로세스 스택"
      ]
    },
    {
      "cell_type": "markdown",
      "metadata": {
        "id": "JfHSDLz13jay",
        "colab_type": "text"
      },
      "source": [
        "- 스택 구조는 프로세스 실행 구조의 가장 기본\n",
        "    - 함수 호출시 프로세스 실행 구조를 스택과 비교해서 이해 필요"
      ]
    },
    {
      "cell_type": "code",
      "metadata": {
        "id": "wXwyEWbHtvbi",
        "colab_type": "code",
        "colab": {}
      },
      "source": [
        "# 재귀 함수\n",
        "def recursive(data):\n",
        "  if data < 0:\n",
        "    print(\"ended\")\n",
        "  else: \n",
        "    print(data)\n",
        "    recursive(data - 1) \n",
        "    print(\"returned\", data)"
      ],
      "execution_count": 0,
      "outputs": []
    },
    {
      "cell_type": "code",
      "metadata": {
        "id": "HA0TFPCt39V-",
        "colab_type": "code",
        "outputId": "ccb6c90a-38ba-48d3-9151-b8fd47964ab5",
        "colab": {
          "base_uri": "https://localhost:8080/",
          "height": 210
        }
      },
      "source": [
        "recursive(4) \n",
        "# recursive 함수의 동작 방식이 스택과 굉장히 유사하고 스택이 프로세스 함수 동장 방식에서 많이 쓰인다. \n",
        "# 프로세스 스택이 이런 스택이라는 자료구조를 기반으로 만들어졌다."
      ],
      "execution_count": 0,
      "outputs": [
        {
          "output_type": "stream",
          "text": [
            "4\n",
            "3\n",
            "2\n",
            "1\n",
            "0\n",
            "ended\n",
            "returned 0\n",
            "returned 1\n",
            "returned 2\n",
            "returned 3\n",
            "returned 4\n"
          ],
          "name": "stdout"
        }
      ]
    },
    {
      "cell_type": "markdown",
      "metadata": {
        "id": "vyu0iE2s6Jvg",
        "colab_type": "text"
      },
      "source": [
        "## 자료 구조 스택의 장단점"
      ]
    },
    {
      "cell_type": "markdown",
      "metadata": {
        "id": "AYh4BznF65LI",
        "colab_type": "text"
      },
      "source": [
        "- 장점\n",
        "    - 구조가 단순해서, 구현이 쉽다.\n",
        "    - 데이터 저장/읽기 속도가 빠르다.\n",
        "\n",
        "- 단점(일반적인 스택 구현시)\n",
        "    - 데이터 최대 갯수를 미리 정해야 한다.\n",
        "        - 파이썬의 경우 재귀 함수는 1000번까지만 호출이 가능함.\n",
        "    - 저장 공간의 낭비가 발생할 수 있음.\n",
        "        - 미리 최대 갯수만큼 저장 공간을 확보해야 함\n",
        "\n",
        "> 스택은 단순하고 빠른 성능을 위해 사용되므로, 보통 배열 구조를 활용해서 구현하는 것이 일반적임. 이 경우, 위에서 열거한 단점이 있을 수 있음."
      ]
    },
    {
      "cell_type": "markdown",
      "metadata": {
        "id": "KzYKSpnB7nwl",
        "colab_type": "text"
      },
      "source": [
        "## 파이썬 리스트 기능에서 제공하는 메소드로 스택 사용해보기\n",
        "* append(push), pop 메서드 제공\n"
      ]
    },
    {
      "cell_type": "code",
      "metadata": {
        "id": "BlZSLIkq4EMy",
        "colab_type": "code",
        "colab": {}
      },
      "source": [
        "data_stack = list()\n",
        "\n",
        "data_stack.append(1)\n",
        "data_stack.append(2)"
      ],
      "execution_count": 0,
      "outputs": []
    },
    {
      "cell_type": "code",
      "metadata": {
        "id": "6zQAlFcK8B5K",
        "colab_type": "code",
        "outputId": "7dd41a83-dfda-4c66-e330-f4bb6ffd3f18",
        "colab": {
          "base_uri": "https://localhost:8080/",
          "height": 34
        }
      },
      "source": [
        "data_stack"
      ],
      "execution_count": 0,
      "outputs": [
        {
          "output_type": "execute_result",
          "data": {
            "text/plain": [
              "[1, 2]"
            ]
          },
          "metadata": {
            "tags": []
          },
          "execution_count": 5
        }
      ]
    },
    {
      "cell_type": "code",
      "metadata": {
        "id": "zddFzH1j8C53",
        "colab_type": "code",
        "outputId": "d1c88c5c-6edf-46a2-a7f9-8fdca9391c48",
        "colab": {
          "base_uri": "https://localhost:8080/",
          "height": 34
        }
      },
      "source": [
        "data_stack.pop()"
      ],
      "execution_count": 0,
      "outputs": [
        {
          "output_type": "execute_result",
          "data": {
            "text/plain": [
              "2"
            ]
          },
          "metadata": {
            "tags": []
          },
          "execution_count": 6
        }
      ]
    },
    {
      "cell_type": "markdown",
      "metadata": {
        "id": "Zm2e2yJT8PDw",
        "colab_type": "text"
      },
      "source": [
        "##### 연습1 : 리스트 변수로 스택을 다루는 pop, push 기능 구현해보기 (pop, push 함수 사용하지 않고 직접 구현해보기)\n"
      ]
    },
    {
      "cell_type": "code",
      "metadata": {
        "id": "bjSgfrI58GFm",
        "colab_type": "code",
        "colab": {}
      },
      "source": [
        "stack_list = list()\n",
        "\n",
        "def push(data):\n",
        "  stack_list.append(data)\n",
        "\n",
        "def pop():\n",
        "  data = stack_list[-1]\n",
        "  del stack_list[-1]\n",
        "  return data"
      ],
      "execution_count": 0,
      "outputs": []
    },
    {
      "cell_type": "code",
      "metadata": {
        "id": "VzhiLiJj8_04",
        "colab_type": "code",
        "colab": {}
      },
      "source": [
        "for index in range(10):\n",
        "  push(index)"
      ],
      "execution_count": 0,
      "outputs": []
    },
    {
      "cell_type": "code",
      "metadata": {
        "id": "gKrEXEU29Cg8",
        "colab_type": "code",
        "outputId": "c8765371-75a2-4aa6-a8c3-de5847af6534",
        "colab": {
          "base_uri": "https://localhost:8080/",
          "height": 34
        }
      },
      "source": [
        "pop()"
      ],
      "execution_count": 0,
      "outputs": [
        {
          "output_type": "execute_result",
          "data": {
            "text/plain": [
              "9"
            ]
          },
          "metadata": {
            "tags": []
          },
          "execution_count": 9
        }
      ]
    }
  ]
}